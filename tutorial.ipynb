{
 "cells": [
  {
   "attachments": {},
   "cell_type": "markdown",
   "metadata": {},
   "source": [
    "# EM Algorithm"
   ]
  },
  {
   "attachments": {},
   "cell_type": "markdown",
   "metadata": {},
   "source": [
    "While it is wonderful to have a closed form for the PPCA model, the matrix inversion is rather expensive and often times not necessary to still obtain very good estimates. Furthermore this closed form version of the PPCA parameters requires us to have all our data available to us at once. In many realistic domains, that is not the case. For example, we may be collecting data from a sensor and want to update our model as we collect more data. In this case, we would like to have an algorithm that can update our model as we collect more data. The EM algorithm is one such algorithm that can do this.\n",
    "\n",
    "It has been shown that for PPCA the EM algorithm is gaurunteed to converge to the global maximum of the log-likelihood. "
   ]
  },
  {
   "cell_type": "markdown",
   "metadata": {},
   "source": []
  },
  {
   "cell_type": "markdown",
   "metadata": {},
   "source": []
  }
 ],
 "metadata": {
  "language_info": {
   "name": "python"
  },
  "orig_nbformat": 4
 },
 "nbformat": 4,
 "nbformat_minor": 2
}
